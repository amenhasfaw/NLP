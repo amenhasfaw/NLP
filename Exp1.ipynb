{
 "cells": [
  {
   "cell_type": "code",
   "execution_count": 1,
   "metadata": {},
   "outputs": [
    {
     "name": "stdout",
     "output_type": "stream",
     "text": [
      "Tokens for sentence1: ['The', 'quick', 'brown', 'fox', 'jumps', 'over', 'the', 'lazy', 'dog']\n",
      "Tokens for sentence2: ['Python', 'programming', 'is', 'both', 'fun', 'and', 'educational']\n"
     ]
    }
   ],
   "source": [
    "import re\n",
    "\n",
    "sentence1 = \"The quick brown fox jumps over the lazy dog.\"\n",
    "sentence2 = \"Python programming is both fun and educational.\"\n",
    "\n",
    "# Simple regex-based manual tokenization\n",
    "def manual_tokenize(sentence):\n",
    "    tokens = re.findall(r\"\\b\\w+\\b\", sentence)\n",
    "    return tokens\n",
    "\n",
    "tokens1 = manual_tokenize(sentence1)\n",
    "tokens2 = manual_tokenize(sentence2)\n",
    "\n",
    "print(\"Tokens for sentence1:\", tokens1)\n",
    "print(\"Tokens for sentence2:\", tokens2)\n"
   ]
  }
 ],
 "metadata": {
  "kernelspec": {
   "display_name": "base",
   "language": "python",
   "name": "python3"
  },
  "language_info": {
   "codemirror_mode": {
    "name": "ipython",
    "version": 3
   },
   "file_extension": ".py",
   "mimetype": "text/x-python",
   "name": "python",
   "nbconvert_exporter": "python",
   "pygments_lexer": "ipython3",
   "version": "3.9.7"
  }
 },
 "nbformat": 4,
 "nbformat_minor": 2
}
