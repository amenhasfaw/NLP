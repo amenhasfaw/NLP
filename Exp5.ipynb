{
 "cells": [
  {
   "cell_type": "code",
   "execution_count": 1,
   "metadata": {},
   "outputs": [],
   "source": [
    "from collections import Counter, defaultdict\n",
    "import re\n",
    "\n",
    "def get_vocab(text):\n",
    "    vocab = Counter(text.split())\n",
    "    return vocab\n",
    "\n",
    "def merge_vocab(pair, vocab):\n",
    "    bigram = ' '.join(pair)\n",
    "    replacement = ''.join(pair)\n",
    "    new_vocab = {}\n",
    "    \n",
    "    for word in vocab:\n",
    "        new_word = re.sub(r'\\b' + re.escape(bigram) + r'\\b', replacement, word)\n",
    "        new_vocab[new_word] = vocab[word]\n",
    "    \n",
    "    return new_vocab\n",
    "\n",
    "def bpe(text, num_merges):\n",
    "    text = re.sub(r'(\\S)', r'\\1 ', text).strip()\n",
    "    vocab = get_vocab(text)\n",
    "    \n",
    "    for _ in range(num_merges):\n",
    "        pairs = Counter()\n",
    "        for word, freq in vocab.items():\n",
    "            symbols = word.split()\n",
    "            for i in range(len(symbols) - 1):\n",
    "                pair = (symbols[i], symbols[i + 1])\n",
    "                pairs[pair] += freq\n",
    "        \n",
    "        if not pairs:\n",
    "            break\n",
    "        \n",
    "        most_freq_pair = pairs.most_common(1)[0][0]\n",
    "        vocab = merge_vocab(most_freq_pair, vocab)\n",
    "    \n",
    "    return vocab\n",
    "\n"
   ]
  },
  {
   "cell_type": "code",
   "execution_count": 2,
   "metadata": {},
   "outputs": [
    {
     "name": "stdout",
     "output_type": "stream",
     "text": [
      "Vocabulary after BPE:\n",
      "l: 4\n",
      "o: 4\n",
      "w: 4\n",
      "e: 2\n",
      "r: 1\n",
      "s: 1\n",
      "t: 1\n"
     ]
    }
   ],
   "source": [
    "text = \"low low lower lowest\"\n",
    "num_merges = 10\n",
    "bpe_vocab = bpe(text, num_merges)\n",
    "\n",
    "print(\"Vocabulary after BPE:\")\n",
    "for word, freq in bpe_vocab.items():\n",
    "    print(f\"{word}: {freq}\")\n"
   ]
  }
 ],
 "metadata": {
  "kernelspec": {
   "display_name": "ML",
   "language": "python",
   "name": "python3"
  },
  "language_info": {
   "codemirror_mode": {
    "name": "ipython",
    "version": 3
   },
   "file_extension": ".py",
   "mimetype": "text/x-python",
   "name": "python",
   "nbconvert_exporter": "python",
   "pygments_lexer": "ipython3",
   "version": "3.9.16"
  }
 },
 "nbformat": 4,
 "nbformat_minor": 2
}
