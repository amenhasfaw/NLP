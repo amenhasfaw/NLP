{
 "cells": [
  {
   "cell_type": "code",
   "execution_count": 1,
   "metadata": {},
   "outputs": [
    {
     "name": "stderr",
     "output_type": "stream",
     "text": [
      "[nltk_data] Downloading package punkt to\n",
      "[nltk_data]     /Users/amenhasfaw/nltk_data...\n",
      "[nltk_data]   Package punkt is already up-to-date!\n"
     ]
    }
   ],
   "source": [
    "import re\n",
    "import time\n",
    "import nltk\n",
    "import spacy\n",
    "from nltk.tokenize import word_tokenize\n",
    "\n",
    "nltk.download('punkt')\n",
    "nlp = spacy.load(\"en_core_web_sm\")\n",
    "sentence = \"The quick brown fox jumps over the lazy dog. Python programming is both fun and educational.\""
   ]
  },
  {
   "cell_type": "code",
   "execution_count": 2,
   "metadata": {},
   "outputs": [],
   "source": [
    "def manual_tokenize(sentence):\n",
    "    return re.findall(r\"\\b\\w+\\b\", sentence)\n",
    "\n",
    "def nltk_tokenize(sentence):\n",
    "    return word_tokenize(sentence)\n",
    "\n",
    "def spacy_tokenize(sentence):\n",
    "    doc = nlp(sentence)\n",
    "    return [token.text for token in doc]\n",
    "\n",
    "def measure_time(func, sentence):\n",
    "    start_time = time.time()\n",
    "    func(sentence)\n",
    "    end_time = time.time()\n",
    "    return end_time - start_time"
   ]
  },
  {
   "cell_type": "code",
   "execution_count": 3,
   "metadata": {},
   "outputs": [
    {
     "name": "stdout",
     "output_type": "stream",
     "text": [
      "Manual Tokenization Time: 0.000415 seconds\n",
      "NLTK Tokenization Time: 0.014466 seconds\n",
      "SpaCy Tokenization Time: 0.021717 seconds\n"
     ]
    }
   ],
   "source": [
    "time_manual = measure_time(manual_tokenize, sentence)\n",
    "time_nltk = measure_time(nltk_tokenize, sentence)\n",
    "time_spacy = measure_time(spacy_tokenize, sentence)\n",
    "\n",
    "print(f\"Manual Tokenization Time: {time_manual:.6f} seconds\")\n",
    "print(f\"NLTK Tokenization Time: {time_nltk:.6f} seconds\")\n",
    "print(f\"SpaCy Tokenization Time: {time_spacy:.6f} seconds\")\n"
   ]
  }
 ],
 "metadata": {
  "kernelspec": {
   "display_name": "ML",
   "language": "python",
   "name": "python3"
  },
  "language_info": {
   "codemirror_mode": {
    "name": "ipython",
    "version": 3
   },
   "file_extension": ".py",
   "mimetype": "text/x-python",
   "name": "python",
   "nbconvert_exporter": "python",
   "pygments_lexer": "ipython3",
   "version": "3.9.16"
  }
 },
 "nbformat": 4,
 "nbformat_minor": 2
}
