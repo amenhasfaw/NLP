{
 "cells": [
  {
   "cell_type": "code",
   "execution_count": null,
   "metadata": {},
   "outputs": [],
   "source": [
    "import spacy\n",
    "\n",
    "nlp = spacy.load(\"en_core_web_sm\")\n",
    "\n",
    "sentence1 = \"The quick brown fox jumps over the lazy dog.\"\n",
    "sentence2 = \"Python programming is both fun and educational.\"\n"
   ]
  },
  {
   "cell_type": "code",
   "execution_count": 5,
   "metadata": {},
   "outputs": [
    {
     "name": "stdout",
     "output_type": "stream",
     "text": [
      "Word tokens for sentence1: ['The', 'quick', 'brown', 'fox', 'jumps', 'over', 'the', 'lazy', 'dog', '.']\n",
      "Word tokens for sentence2: ['Python', 'programming', 'is', 'both', 'fun', 'and', 'educational', '.']\n",
      "Character tokens for sentence1: ['T', 'h', 'e', 'q', 'u', 'i', 'c', 'k', 'b', 'r', 'o', 'w', 'n', 'f', 'o', 'x', 'j', 'u', 'm', 'p', 's', 'o', 'v', 'e', 'r', 't', 'h', 'e', 'l', 'a', 'z', 'y', 'd', 'o', 'g', '.']\n",
      "Character tokens for sentence2: ['P', 'y', 't', 'h', 'o', 'n', 'p', 'r', 'o', 'g', 'r', 'a', 'm', 'm', 'i', 'n', 'g', 'i', 's', 'b', 'o', 't', 'h', 'f', 'u', 'n', 'a', 'n', 'd', 'e', 'd', 'u', 'c', 'a', 't', 'i', 'o', 'n', 'a', 'l', '.']\n"
     ]
    }
   ],
   "source": [
    "doc1 = nlp(sentence1)\n",
    "doc2 = nlp(sentence2)\n",
    "\n",
    "tokens1_words = [token.text for token in doc1]\n",
    "tokens2_words = [token.text for token in doc2]\n",
    "\n",
    "tokens1_chars = list(sentence1.replace(\" \", \"\"))\n",
    "tokens2_chars = list(sentence2.replace(\" \", \"\"))\n",
    "\n",
    "print(\"Word tokens for sentence1:\", tokens1_words)\n",
    "print(\"Word tokens for sentence2:\", tokens2_words)\n",
    "print(\"Character tokens for sentence1:\", tokens1_chars)\n",
    "print(\"Character tokens for sentence2:\", tokens2_chars)\n"
   ]
  }
 ],
 "metadata": {
  "kernelspec": {
   "display_name": "base",
   "language": "python",
   "name": "python3"
  },
  "language_info": {
   "codemirror_mode": {
    "name": "ipython",
    "version": 3
   },
   "file_extension": ".py",
   "mimetype": "text/x-python",
   "name": "python",
   "nbconvert_exporter": "python",
   "pygments_lexer": "ipython3",
   "version": "3.9.7"
  }
 },
 "nbformat": 4,
 "nbformat_minor": 2
}
